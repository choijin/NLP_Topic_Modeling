{
 "cells": [
  {
   "cell_type": "markdown",
   "id": "2dbaa47f",
   "metadata": {},
   "source": [
    "# Topic Modeling Using LDA and K-Means Clustering"
   ]
  },
  {
   "cell_type": "markdown",
   "id": "83503635",
   "metadata": {},
   "source": [
    "## Import libraries"
   ]
  },
  {
   "cell_type": "code",
   "execution_count": 6,
   "id": "92e8c5bb",
   "metadata": {},
   "outputs": [],
   "source": [
    "import pandas as pd\n",
    "import boto3\n",
    "import os\n",
    "import gensim\n",
    "import numpy as np\n",
    "import re\n",
    "import matplotlib.pyplot as plt\n",
    "import spacy\n",
    "import gensim\n",
    "import torch\n",
    "import umap.umap_ as umap\n",
    "\n",
    "from sklearn.cluster import KMeans\n",
    "from sklearn.metrics import silhouette_score\n",
    "from sklearn.metrics.pairwise import cosine_similarity\n",
    "from gensim.models.coherencemodel import CoherenceModel\n",
    "from gensim.corpora import Dictionary\n",
    "from io import BytesIO\n",
    "from dotenv import load_dotenv\n",
    "from sklearn.decomposition import LatentDirichletAllocation\n",
    "from sklearn.feature_extraction.text import CountVectorizer, TfidfVectorizer\n",
    "from transformers import BartForConditionalGeneration, BartTokenizer\n",
    "from transformers import BertTokenizer, BertModel\n",
    "\n",
    "# plt.rcParams['axes.grid'] = True\n",
    "plt.style.use('seaborn-v0_8')"
   ]
  },
  {
   "cell_type": "code",
   "execution_count": 7,
   "id": "055c546f",
   "metadata": {},
   "outputs": [],
   "source": [
    "import warnings\n",
    "warnings.filterwarnings(\"ignore\")"
   ]
  },
  {
   "cell_type": "markdown",
   "id": "ec26f80e",
   "metadata": {},
   "source": [
    "## Load data from S3"
   ]
  },
  {
   "cell_type": "code",
   "execution_count": 8,
   "id": "476abf95",
   "metadata": {},
   "outputs": [],
   "source": [
    "# Load the environment file with credentials\n",
    "dotenv_path = os.path.join(os.path.abspath(''), 'aws-credentials.env')\n",
    "load_dotenv(dotenv_path)\n",
    "\n",
    "BUCKET_NAME = \"nlp-topic-modeling-project\" # S3 bucket name\n",
    "KEY = 'processed_insurance_journal_articles.parquet'\n",
    "\n",
    "session = boto3.Session(\n",
    "        aws_access_key_id=os.environ['aws_access_key_id'],\n",
    "        aws_secret_access_key=os.environ['aws_secret_access_key']\n",
    "    )\n",
    "\n",
    "# Creating S3 resource from Session\n",
    "s3 = session.resource('s3')\n",
    "\n",
    "# Create a buffer, which stores the data in memory\n",
    "buffer = BytesIO()\n",
    "\n",
    "# Download file from S3\n",
    "s3.Object(BUCKET_NAME, KEY).download_fileobj(buffer)\n",
    "\n",
    "# Read the buffer\n",
    "df = pd.read_parquet(buffer)"
   ]
  },
  {
   "cell_type": "markdown",
   "id": "48d07ee0",
   "metadata": {},
   "source": [
    "## Preprocessing"
   ]
  },
  {
   "cell_type": "code",
   "execution_count": 200,
   "id": "a8b2dfdd",
   "metadata": {},
   "outputs": [],
   "source": [
    "import spacy"
   ]
  },
  {
   "cell_type": "code",
   "execution_count": 5,
   "id": "2556948e",
   "metadata": {},
   "outputs": [],
   "source": [
    "nlp = spacy.load('en_core_web_md')"
   ]
  },
  {
   "cell_type": "code",
   "execution_count": 6,
   "id": "34c6aeb9",
   "metadata": {},
   "outputs": [],
   "source": [
    "# Function for lemmatization using spacy\n",
    "def lemmatize(text):\n",
    "    doc = nlp(text)\n",
    "    return ' '.join([token.lemma_ for token in doc])"
   ]
  },
  {
   "cell_type": "code",
   "execution_count": 7,
   "id": "3ac17ab6",
   "metadata": {},
   "outputs": [],
   "source": [
    "# Removing special characters and numbers\n",
    "df['clean_article'] = df['article'].apply(lambda x: re.sub(r'[^a-zA-Z\\s]', '', x)) \n",
    "\n",
    "# Convert to lowercase\n",
    "df['clean_article'] = df['clean_article'].apply(lambda x: x.lower()) \n",
    "\n",
    "# Lemmatize\n",
    "df['clean_article'] = df['clean_article'].apply(lemmatize) "
   ]
  },
  {
   "cell_type": "markdown",
   "id": "6ae93706",
   "metadata": {},
   "source": [
    "## Create vectorizers"
   ]
  },
  {
   "cell_type": "markdown",
   "id": "1736e9f0",
   "metadata": {},
   "source": [
    "**`max_df`**` : float in range [0.0, 1.0] or int, default=1.0`<br>\n",
    "When building the vocabulary, ignore terms that have a document frequency strictly higher than the given threshold (corpus-specific stop words). Aka, if this word occurs in more than 95% of the articles, drop it. If float, the parameter represents a proportion of documents, integer absolute counts. This parameter is ignored if vocabulary is not None.\n",
    "\n",
    "**`min_df`**` : float in range [0.0, 1.0] or int, default=1`<br>\n",
    "When building the vocabulary ignore terms that have a document frequency strictly lower than the given threshold. This value is also called cut-off in the literature. If float, the parameter represents a proportion of documents, integer absolute counts. This parameter is ignored if vocabulary is not None. We want at least two occurence of the vocabulary."
   ]
  },
  {
   "cell_type": "code",
   "execution_count": 9,
   "id": "c75868eb",
   "metadata": {},
   "outputs": [],
   "source": [
    "from sklearn.feature_extraction.text import CountVectorizer, TfidfVectorizer"
   ]
  },
  {
   "cell_type": "code",
   "execution_count": 156,
   "id": "ea5f90ae",
   "metadata": {},
   "outputs": [],
   "source": [
    "count_vectorizer = CountVectorizer(max_df=0.90, min_df=2, stop_words='english', ngram_range=(1,2))\n",
    "tfidf_vectorizer = TfidfVectorizer(max_df=0.90, min_df=2, stop_words='english', ngram_range=(1,2))"
   ]
  },
  {
   "cell_type": "code",
   "execution_count": 11,
   "id": "7d173115",
   "metadata": {},
   "outputs": [],
   "source": [
    "# Rows (i) are documents and columns (j) are words\n",
    "cv_matrix = count_vectorizer.fit_transform(df['clean_article'])\n",
    "tfidf_matrix = tfidf_vectorizer.fit_transform(df['clean_article'])"
   ]
  },
  {
   "cell_type": "markdown",
   "id": "80fd851b",
   "metadata": {},
   "source": [
    "## Latent Dirichlet Distribution"
   ]
  },
  {
   "cell_type": "code",
   "execution_count": 18,
   "id": "5b439eae",
   "metadata": {},
   "outputs": [],
   "source": [
    "from sklearn.decomposition import LatentDirichletAllocation"
   ]
  },
  {
   "cell_type": "code",
   "execution_count": 211,
   "id": "aea9111a",
   "metadata": {},
   "outputs": [],
   "source": [
    "LDA = LatentDirichletAllocation(n_components=17,random_state=42)"
   ]
  },
  {
   "cell_type": "code",
   "execution_count": 212,
   "id": "b65aed4a",
   "metadata": {},
   "outputs": [
    {
     "data": {
      "text/html": [
       "<style>#sk-container-id-3 {color: black;}#sk-container-id-3 pre{padding: 0;}#sk-container-id-3 div.sk-toggleable {background-color: white;}#sk-container-id-3 label.sk-toggleable__label {cursor: pointer;display: block;width: 100%;margin-bottom: 0;padding: 0.3em;box-sizing: border-box;text-align: center;}#sk-container-id-3 label.sk-toggleable__label-arrow:before {content: \"▸\";float: left;margin-right: 0.25em;color: #696969;}#sk-container-id-3 label.sk-toggleable__label-arrow:hover:before {color: black;}#sk-container-id-3 div.sk-estimator:hover label.sk-toggleable__label-arrow:before {color: black;}#sk-container-id-3 div.sk-toggleable__content {max-height: 0;max-width: 0;overflow: hidden;text-align: left;background-color: #f0f8ff;}#sk-container-id-3 div.sk-toggleable__content pre {margin: 0.2em;color: black;border-radius: 0.25em;background-color: #f0f8ff;}#sk-container-id-3 input.sk-toggleable__control:checked~div.sk-toggleable__content {max-height: 200px;max-width: 100%;overflow: auto;}#sk-container-id-3 input.sk-toggleable__control:checked~label.sk-toggleable__label-arrow:before {content: \"▾\";}#sk-container-id-3 div.sk-estimator input.sk-toggleable__control:checked~label.sk-toggleable__label {background-color: #d4ebff;}#sk-container-id-3 div.sk-label input.sk-toggleable__control:checked~label.sk-toggleable__label {background-color: #d4ebff;}#sk-container-id-3 input.sk-hidden--visually {border: 0;clip: rect(1px 1px 1px 1px);clip: rect(1px, 1px, 1px, 1px);height: 1px;margin: -1px;overflow: hidden;padding: 0;position: absolute;width: 1px;}#sk-container-id-3 div.sk-estimator {font-family: monospace;background-color: #f0f8ff;border: 1px dotted black;border-radius: 0.25em;box-sizing: border-box;margin-bottom: 0.5em;}#sk-container-id-3 div.sk-estimator:hover {background-color: #d4ebff;}#sk-container-id-3 div.sk-parallel-item::after {content: \"\";width: 100%;border-bottom: 1px solid gray;flex-grow: 1;}#sk-container-id-3 div.sk-label:hover label.sk-toggleable__label {background-color: #d4ebff;}#sk-container-id-3 div.sk-serial::before {content: \"\";position: absolute;border-left: 1px solid gray;box-sizing: border-box;top: 0;bottom: 0;left: 50%;z-index: 0;}#sk-container-id-3 div.sk-serial {display: flex;flex-direction: column;align-items: center;background-color: white;padding-right: 0.2em;padding-left: 0.2em;position: relative;}#sk-container-id-3 div.sk-item {position: relative;z-index: 1;}#sk-container-id-3 div.sk-parallel {display: flex;align-items: stretch;justify-content: center;background-color: white;position: relative;}#sk-container-id-3 div.sk-item::before, #sk-container-id-3 div.sk-parallel-item::before {content: \"\";position: absolute;border-left: 1px solid gray;box-sizing: border-box;top: 0;bottom: 0;left: 50%;z-index: -1;}#sk-container-id-3 div.sk-parallel-item {display: flex;flex-direction: column;z-index: 1;position: relative;background-color: white;}#sk-container-id-3 div.sk-parallel-item:first-child::after {align-self: flex-end;width: 50%;}#sk-container-id-3 div.sk-parallel-item:last-child::after {align-self: flex-start;width: 50%;}#sk-container-id-3 div.sk-parallel-item:only-child::after {width: 0;}#sk-container-id-3 div.sk-dashed-wrapped {border: 1px dashed gray;margin: 0 0.4em 0.5em 0.4em;box-sizing: border-box;padding-bottom: 0.4em;background-color: white;}#sk-container-id-3 div.sk-label label {font-family: monospace;font-weight: bold;display: inline-block;line-height: 1.2em;}#sk-container-id-3 div.sk-label-container {text-align: center;}#sk-container-id-3 div.sk-container {/* jupyter's `normalize.less` sets `[hidden] { display: none; }` but bootstrap.min.css set `[hidden] { display: none !important; }` so we also need the `!important` here to be able to override the default hidden behavior on the sphinx rendered scikit-learn.org. See: https://github.com/scikit-learn/scikit-learn/issues/21755 */display: inline-block !important;position: relative;}#sk-container-id-3 div.sk-text-repr-fallback {display: none;}</style><div id=\"sk-container-id-3\" class=\"sk-top-container\"><div class=\"sk-text-repr-fallback\"><pre>LatentDirichletAllocation(n_components=17, random_state=42)</pre><b>In a Jupyter environment, please rerun this cell to show the HTML representation or trust the notebook. <br />On GitHub, the HTML representation is unable to render, please try loading this page with nbviewer.org.</b></div><div class=\"sk-container\" hidden><div class=\"sk-item\"><div class=\"sk-estimator sk-toggleable\"><input class=\"sk-toggleable__control sk-hidden--visually\" id=\"sk-estimator-id-3\" type=\"checkbox\" checked><label for=\"sk-estimator-id-3\" class=\"sk-toggleable__label sk-toggleable__label-arrow\">LatentDirichletAllocation</label><div class=\"sk-toggleable__content\"><pre>LatentDirichletAllocation(n_components=17, random_state=42)</pre></div></div></div></div></div>"
      ],
      "text/plain": [
       "LatentDirichletAllocation(n_components=17, random_state=42)"
      ]
     },
     "execution_count": 212,
     "metadata": {},
     "output_type": "execute_result"
    }
   ],
   "source": [
    "LDA.fit(cv_matrix)"
   ]
  },
  {
   "cell_type": "markdown",
   "id": "0d8cd54b",
   "metadata": {},
   "source": [
    "## Word-Topic Distribution"
   ]
  },
  {
   "cell_type": "markdown",
   "id": "b79626cb",
   "metadata": {},
   "source": [
    "`LDA.components_` gives the **word-topic distribution (φ)**. It's a matrix where each row represents a topic, and the columns represent the words in the vocabulary. The values are the number of times each word is assigned to each topic.\n",
    "\n",
    "* The rows (i) represent topics\n",
    "* The columns (j) represent words\n",
    "* The value at index (i, j) represents the **importance** or weight of word j in topic i."
   ]
  },
  {
   "cell_type": "code",
   "execution_count": 217,
   "id": "5a2c30e2",
   "metadata": {},
   "outputs": [
    {
     "data": {
      "text/plain": [
       "(17, 38836)"
      ]
     },
     "execution_count": 217,
     "metadata": {},
     "output_type": "execute_result"
    }
   ],
   "source": [
    "LDA.components_.shape"
   ]
  },
  {
   "cell_type": "code",
   "execution_count": 218,
   "id": "fa925ff6",
   "metadata": {},
   "outputs": [],
   "source": [
    "single_topic = LDA.components_[0]"
   ]
  },
  {
   "cell_type": "code",
   "execution_count": 219,
   "id": "2dad266d",
   "metadata": {},
   "outputs": [],
   "source": [
    "# Returns the indices that would sort this array.\n",
    "args = single_topic.argsort()"
   ]
  },
  {
   "cell_type": "code",
   "execution_count": 220,
   "id": "be7d1bea",
   "metadata": {},
   "outputs": [
    {
     "data": {
      "text/plain": [
       "('vehicle', 447.99016370081154)"
      ]
     },
     "execution_count": 220,
     "metadata": {},
     "output_type": "execute_result"
    }
   ],
   "source": [
    "# The word and the weight of word most representative of this topic. \n",
    "count_vectorizer.get_feature_names_out()[args[-1]], single_topic[args[-1]]"
   ]
  },
  {
   "cell_type": "code",
   "execution_count": 35,
   "id": "98b67997",
   "metadata": {},
   "outputs": [
    {
     "name": "stdout",
     "output_type": "stream",
     "text": [
      "THE TOP WORDS FOR TOPIC #0\n",
      "['vehicle', 'tesla', 'recall', 'safety', 'report', 'year', 'nhtsa', 'crash', 'driver', 'traffic', 'cost', 'increase', 'car', 'claim', 'model', 'auto', 'million', 'automaker', 'inflator', 'investigation', 'new', 'death', 'highway', 'make', 'national', 'high', 'agency', 'injury', 'issue', 'company']\n",
      "\n",
      "\n",
      "THE TOP WORDS FOR TOPIC #1\n",
      "['claim', 'worker', 'new', 'company', 'court', 'employee', 'risk', 'cyber', 'policy', 'year', 'insurer', 'work', 'case', 'time', 'insurance', 'business', 'include', 'make', 'exclusion', 'law', 'industry', 'coverage', 'change', 'need', 'state', 'issue', 'war', 'damage', 'use', 'injury']\n",
      "\n",
      "\n",
      "THE TOP WORDS FOR TOPIC #2\n",
      "['bank', 'svb', 'financial', 'deposit', 'risk', 'report', 'company', 'insurance', 'year', 'bond', 'rate', 'banking', 'regulator', 'worker', 'fed', 'policy', 'loan', 'federal', 'failure', 'firm', 'valley', 'silicon valley', 'silicon', 'asset', 'valley bank', 'crypto', 'billion', 'capital', 'investment', 'fdic']\n",
      "\n",
      "\n",
      "THE TOP WORDS FOR TOPIC #3\n",
      "['loss', 'million', 'hurricane', 'billion', 'storm', 'quarter', 'catastrophe', 'year', 'net', 'income', 'increase', 'report', 'compare', 'catastrophe loss', 'combine', 'personal', 'record', 'net income', 'estimate', 'season', 'atlantic', 'line', 'wind', 'tornado', 'june', 'month', 'result', 'severe', 'combine ratio', 'ratio']\n",
      "\n",
      "\n",
      "THE TOP WORDS FOR TOPIC #4\n",
      "['epstein', 'jpmorgan', 'bank', 'hospital', 'gun', 'use', 'report', 'year', 'new', 'patient', 'million', 'risk', 'health', 'accord', 'care', 'state', 'increase', 'victim', 'pay', 'lawsuit', 'include', 'medical', 'people', 'study', 'worker', 'case', 'home', 'woman', 'staley', 'federal']\n",
      "\n",
      "\n"
     ]
    }
   ],
   "source": [
    "# Dispaying top words for topics 0 to 5\n",
    "for index,topic in enumerate(LDA.components_[:5]):\n",
    "    print(f'THE TOP WORDS FOR TOPIC #{index}')\n",
    "    print([count_vectorizer.get_feature_names_out()[i] for i in topic.argsort()[-30:][::-1]])\n",
    "    print('\\n')"
   ]
  },
  {
   "cell_type": "code",
   "execution_count": 14,
   "id": "d54d717b",
   "metadata": {},
   "outputs": [],
   "source": [
    "def word_plot(df, vectorizer, desired_label, idx, n_words=30):\n",
    "    \"\"\"\n",
    "    Plots the top words for a specified topic or cluster.\n",
    "\n",
    "    Parameters:\n",
    "    - df: DataFrame containing articles and their associated labels.\n",
    "    - vectorizer: Fitted vectorizer (like TF-IDF or CountVectorizer).\n",
    "    - desired_label: The column in df that contains the labels for topics or clusters.\n",
    "    - idx: Identifier for the topic or cluster you want to visualize.\n",
    "    - n_words: Number of top words to plot.\n",
    "    - method: Either 'lda' or 'kmeans' to specify the technique used for topic modeling or clustering.\n",
    "    \"\"\"\n",
    "    vectorizer.fit(df['clean_article'])\n",
    "    \n",
    "    # Get documents that belong to the cluster or topic specified by idx\n",
    "    docs_in_cluster = df[df[desired_label] == idx]['clean_article'].tolist()\n",
    "\n",
    "    # Vectorize these documents\n",
    "    cluster_vectors = vectorizer.transform(docs_in_cluster).toarray()\n",
    "\n",
    "    # Calculate the average vector for the cluster\n",
    "    word_weights = np.mean(cluster_vectors, axis=0)\n",
    "    \n",
    "    # Get the indices for the top words\n",
    "    top_word_indices = word_weights.argsort()[-n_words:][::-1]\n",
    "\n",
    "    # Get the words corresponding to these indices\n",
    "    feature_names = vectorizer.get_feature_names_out()\n",
    "    top_words = [feature_names[i] for i in top_word_indices]\n",
    "    \n",
    "    plt.figure(figsize=(15, 10))\n",
    "    plt.barh(top_words, word_weights[top_word_indices])\n",
    "    plt.xlabel('Weight')\n",
    "    plt.title(f'Top {n_words} words for topic {idx}')\n",
    "    plt.gca().invert_yaxis()\n",
    "    plt.show()"
   ]
  },
  {
   "cell_type": "code",
   "execution_count": 430,
   "id": "f2ea7da6",
   "metadata": {},
   "outputs": [
    {
     "data": {
      "image/png": "[encoded data removed]",
      "text/plain": [
       "<Figure size 1080x720 with 1 Axes>"
      ]
     },
     "metadata": {},
     "output_type": "display_data"
    }
   ],
   "source": [
    "# Display the topic to word importance plot. Select the topic number.\n",
    "word_plot(df, tfidf_vectorizer, 'lda_label', 5)"
   ]
  },
  {
   "cell_type": "markdown",
   "id": "dc26c455",
   "metadata": {},
   "source": [
    "## Document-Topic Distribution"
   ]
  },
  {
   "cell_type": "markdown",
   "id": "d7e43363",
   "metadata": {},
   "source": [
    "The `document-topic distribution (θ)` can be obtained by transforming your document-term matrix (cv_matrix).\n",
    "\n",
    "* The rows represent the documents.\n",
    "* The columns represent the topics.\n",
    "* The value at index (i, j) represents the **probability distribution of topics** for documents."
   ]
  },
  {
   "cell_type": "code",
   "execution_count": 223,
   "id": "c3f6f0e6",
   "metadata": {},
   "outputs": [],
   "source": [
    "topic_results = LDA.transform(cv_matrix)"
   ]
  },
  {
   "cell_type": "code",
   "execution_count": 18,
   "id": "7aa76724",
   "metadata": {},
   "outputs": [],
   "source": [
    "# Hard assign topics to documents\n",
    "df['lda_label'] = topic_results.argmax(axis=1)"
   ]
  },
  {
   "cell_type": "markdown",
   "id": "14f74035",
   "metadata": {},
   "source": [
    "# Evaluate Model"
   ]
  },
  {
   "cell_type": "markdown",
   "id": "75a3fd86",
   "metadata": {},
   "source": [
    "## Perplexity\n",
    "\n",
    "A common metric for probabilistic models, including LDA. Lower perplexity scores are generally better, indicating that the model is more confident in its predictions. However, it's worth noting that a lower perplexity does not always imply a better interpretable model.\n",
    "\n",
    "**Lower perplexity scores are generally better**, indicating that the model is more confident in its predictions."
   ]
  },
  {
   "cell_type": "code",
   "execution_count": 100,
   "id": "f6e7c6f4",
   "metadata": {},
   "outputs": [
    {
     "name": "stdout",
     "output_type": "stream",
     "text": [
      "Perplexity:  7641.888070022741\n"
     ]
    }
   ],
   "source": [
    "# Calculate Perplexity.\n",
    "perplexity = LDA.perplexity(cv_matrix)\n",
    "print(\"Perplexity: \", perplexity)"
   ]
  },
  {
   "cell_type": "markdown",
   "id": "40db351f",
   "metadata": {},
   "source": [
    "## Topic Coherence\n",
    "\n",
    "Topic Coherence measures the semantic similarity between high scoring words in a topic. It's used to determine how coherent the words are within a topic.  If words from the same topic frequently appear together in the text, they are likely related and contribute to a higher coherence score. A topic is considered coherent if its top N words are frequently mentioned together in the corpus.\n",
    "\n",
    "Topic coherence scores, particularly the cv metric, typically range between 0 and 1. High coherence is closer to 1 and low coherence is closer to 0.\n",
    "\n",
    "**High coherence scores are better**."
   ]
  },
  {
   "cell_type": "code",
   "execution_count": 8,
   "id": "11e34162",
   "metadata": {},
   "outputs": [],
   "source": [
    "import gensim\n",
    "from gensim.models.coherencemodel import CoherenceModel\n",
    "from gensim.corpora import Dictionary"
   ]
  },
  {
   "cell_type": "code",
   "execution_count": 19,
   "id": "ba6191cb",
   "metadata": {},
   "outputs": [],
   "source": [
    "def get_topic_words(df, vectorizer, column_label, top_n_words=30):\n",
    "    \n",
    "    topics = []\n",
    "    \n",
    "    for label in df[column_label].unique():\n",
    "        \n",
    "        # Get documents with this label\n",
    "        docs_in_cluster = df[df[column_label] == label]['clean_article'].tolist()\n",
    "        \n",
    "        # Fit the Tfidf-Vectorizer to the documents in this cluster\n",
    "        X = vectorizer.fit_transform(docs_in_cluster)\n",
    "        \n",
    "        # Sum tf-idf features for each term throughout all the documents in this cluster\n",
    "        term_scores = np.sum(X.toarray(), axis=0)\n",
    "        \n",
    "        # Get indices sorted by top tf-idf scores\n",
    "        top_indices = np.argsort(term_scores)[::-1][:top_n_words]\n",
    "        \n",
    "        # Get the top words\n",
    "        top_words = [vectorizer.get_feature_names_out()[i] for i in top_indices]\n",
    "        \n",
    "        topics.append(top_words)\n",
    "        \n",
    "    return topics"
   ]
  },
  {
   "cell_type": "code",
   "execution_count": 20,
   "id": "f84c71cc",
   "metadata": {},
   "outputs": [],
   "source": [
    "def get_topic_coherence(df, vectorizer, column_label, coherence_type='c_v'):\n",
    "    \n",
    "    # Tokenize documents\n",
    "    texts = [doc.split() for doc in df['clean_article']]\n",
    "    \n",
    "    # Create a Gensim dictionary\n",
    "    dictionary = Dictionary(texts)\n",
    "    \n",
    "    # Get topics\n",
    "    topics = get_topic_words(df, vectorizer, column_label)\n",
    "    \n",
    "    # Compute Coherence Score\n",
    "    coherence_model = CoherenceModel(topics=topics, texts=texts, dictionary=dictionary, coherence=coherence_type)\n",
    "    coherence_score = coherence_model.get_coherence()\n",
    "    \n",
    "    return coherence_score"
   ]
  },
  {
   "cell_type": "markdown",
   "id": "8fe67e76",
   "metadata": {},
   "source": [
    "## Topic Diversity\n",
    "\n",
    "Topic Diversity is a measure to evaluate the distinctness or separateness of topics in a topic model. If topics in a model are very similar to each other, the model may not be very informative. Hence, it's desirable that the topics are diverse\n",
    "\n",
    "The topic_diversity function will return a score between 0 and 1. Higher values indicate greater diversity between the topics.\n",
    "\n",
    "**Higher diversity scores are better.**"
   ]
  },
  {
   "cell_type": "code",
   "execution_count": 21,
   "id": "8a2ace84",
   "metadata": {},
   "outputs": [],
   "source": [
    "from sklearn.metrics.pairwise import cosine_similarity"
   ]
  },
  {
   "cell_type": "code",
   "execution_count": 22,
   "id": "c15b7d97",
   "metadata": {},
   "outputs": [],
   "source": [
    "def get_topic_vectors(df, vectorizer, column_label):\n",
    "    \n",
    "    # Fit the TfidfVectorizer on the entire dataset\n",
    "    vectorizer.fit(df['clean_article'].tolist())\n",
    "    \n",
    "    topic_vectors = []\n",
    "    \n",
    "    for label in df[column_label].unique():\n",
    "        # Get documents with this label\n",
    "        docs_in_cluster = df[df[column_label] == label]['clean_article'].tolist()\n",
    "        \n",
    "        # Transform the documents into a document-term matrix based on the fitted model\n",
    "        X = vectorizer.transform(docs_in_cluster)\n",
    "        \n",
    "        # Compute the average tf-idf vector for this cluster\n",
    "        avg_vector = np.mean(X.toarray(), axis=0)\n",
    "        \n",
    "        topic_vectors.append(avg_vector)\n",
    "        \n",
    "    return np.vstack(topic_vectors)  # Use vstack to stack arrays vertically"
   ]
  },
  {
   "cell_type": "code",
   "execution_count": 23,
   "id": "c66bf53f",
   "metadata": {},
   "outputs": [],
   "source": [
    "def get_topic_diversity(df, vectorizer, column_label):\n",
    "    \n",
    "    # Get topic vectors\n",
    "    topic_vectors = get_topic_vectors(df, vectorizer, column_label)\n",
    "    \n",
    "    # Normalize the vectors\n",
    "    topic_vectors = topic_vectors / np.linalg.norm(topic_vectors, axis=1, keepdims=True)\n",
    "    \n",
    "    # Calculate pairwise cosine similarity\n",
    "    similarities = cosine_similarity(topic_vectors)\n",
    "    \n",
    "    # Set diagonal values to 0 (as they are always 1)\n",
    "    np.fill_diagonal(similarities, 0)\n",
    "    \n",
    "    # Compute the average pairwise similarity\n",
    "    avg_similarity = np.mean(similarities)\n",
    "    \n",
    "    # Compute topic diversity\n",
    "    diversity = 1 - avg_similarity\n",
    "    \n",
    "    return diversity"
   ]
  },
  {
   "cell_type": "markdown",
   "id": "96f2a29d",
   "metadata": {},
   "source": [
    "## Collect Evaluation Metric Scores"
   ]
  },
  {
   "cell_type": "code",
   "execution_count": 32,
   "id": "7daef742",
   "metadata": {},
   "outputs": [],
   "source": [
    "n_components = np.arange(5,21)\n",
    "\n",
    "coherence_scores = []\n",
    "diversity_scores = []\n",
    "perplexity_scores = []\n",
    "\n",
    "for n_component in n_components:\n",
    "    \n",
    "    # Create LDA and fit document-topic matrix\n",
    "    LDA = LatentDirichletAllocation(n_components=n_component,random_state=42)\n",
    "    LDA.fit(cv_matrix)\n",
    "    topic_results = LDA.transform(cv_matrix)\n",
    "    df['lda_label'] = topic_results.argmax(axis=1)\n",
    "    \n",
    "    # Calculate scores for each N number of topics\n",
    "    coh_score = get_topic_coherence(df, tfidf_vectorizer, 'lda_label')\n",
    "    div_score = get_topic_diversity(df, tfidf_vectorizer, 'lda_label')\n",
    "#     coh_score = lda_calc_topic_coherence(LDA.components_, df, count_vectorizer, top_n_words=20)\n",
    "#     div_score = calc_topic_diversity(LDA.components_)\n",
    "    \n",
    "    # Collect scores\n",
    "    coherence_scores.append(coh_score)\n",
    "    diversity_scores.append(div_score)\n",
    "    perplexity_scores.append(LDA.perplexity(cv_matrix))"
   ]
  },
  {
   "cell_type": "code",
   "execution_count": 33,
   "id": "7b9765c5",
   "metadata": {},
   "outputs": [
    {
     "data": {
      "image/png": "[encoded data removed]",
      "text/plain": [
       "<Figure size 1080x720 with 3 Axes>"
      ]
     },
     "metadata": {
      "needs_background": "light"
     },
     "output_type": "display_data"
    }
   ],
   "source": [
    "plt.figure(figsize=(15, 10))\n",
    "\n",
    "start_topic = 5\n",
    "\n",
    "# Assuming number of topics or some range\n",
    "topics_range = list(range(start_topic, start_topic + len(coherence_scores)))  \n",
    "\n",
    "# Coherence scores plot\n",
    "plt.subplot(2, 2, 1)\n",
    "plt.plot(topics_range, coherence_scores, marker='o')\n",
    "plt.title(\"Coherence Scores\")\n",
    "plt.xlabel(\"Number of Topics\")\n",
    "plt.ylabel(\"Coherence Score\")\n",
    "plt.xticks(topics_range)\n",
    "plt.tight_layout()\n",
    "# plt.grid(True, which='both', linestyle='--', linewidth=0.5)\n",
    "\n",
    "# Perplexity scores plot\n",
    "plt.subplot(2, 2, 2)\n",
    "plt.plot(topics_range, perplexity_scores, marker='o', color='r')\n",
    "plt.title(\"Perplexity Scores\")\n",
    "plt.xlabel(\"Number of Topics\")\n",
    "plt.ylabel(\"Perplexity Score\")\n",
    "plt.xticks(topics_range)\n",
    "plt.tight_layout()\n",
    "# plt.grid(True, which='both', linestyle='--', linewidth=0.5)\n",
    "\n",
    "# Diversity scores plot\n",
    "plt.subplot(2, 2, 3)\n",
    "plt.plot(topics_range, diversity_scores, marker='o', color='g')\n",
    "plt.title(\"Diversity Scores\")\n",
    "plt.xlabel(\"Number of Topics\")\n",
    "plt.ylabel(\"Diversity Score\")\n",
    "plt.xticks(topics_range)\n",
    "plt.tight_layout()\n",
    "# plt.grid(True, which='both', linestyle='--', linewidth=0.5)\n",
    "\n",
    "plt.show()"
   ]
  },
  {
   "cell_type": "markdown",
   "id": "9a1ac6f1",
   "metadata": {},
   "source": [
    "### ***From the graph, 17 numbers of topics seem reasonable."
   ]
  },
  {
   "cell_type": "code",
   "execution_count": 14,
   "id": "96af1b0e",
   "metadata": {},
   "outputs": [],
   "source": [
    "LDA = LatentDirichletAllocation(n_components=17,random_state=42)\n",
    "LDA.fit(cv_matrix)\n",
    "topic_results = LDA.transform(cv_matrix)\n",
    "df['lda_label'] = topic_results.argmax(axis=1)"
   ]
  },
  {
   "cell_type": "markdown",
   "id": "fe6cffdc",
   "metadata": {},
   "source": [
    "# K-means Clustering on Topics\n",
    "\n",
    "Even after assigning the dominant topic to each user using argmax, there might still be nuances in their topic distributions. k-means can help in grouping together users based on these nuances, potentially creating more cohesive and targeted segments. For LDA, I am just finding a dominant topic and assigning documents to that topic. However, clustering will use all elements in the probability distribution.\n",
    "\n",
    "Warning: Since K-mean cluster uses distance based method for clustering, and the document-topic matrix is not a vector but a probability distribution of topics for each document, a standard K-mean clustering may not capture the signals in the document well. Rather, using a probability distribution based clustering may be better."
   ]
  },
  {
   "cell_type": "markdown",
   "id": "1cc06d7a",
   "metadata": {},
   "source": [
    "## Using only K-means Cluster for Classification"
   ]
  },
  {
   "cell_type": "code",
   "execution_count": 15,
   "id": "96918fef",
   "metadata": {},
   "outputs": [],
   "source": [
    "from sklearn.cluster import KMeans"
   ]
  },
  {
   "cell_type": "markdown",
   "id": "d5a36624",
   "metadata": {},
   "source": [
    "## Determine the Number of Clusters"
   ]
  },
  {
   "cell_type": "markdown",
   "id": "2c8830fc",
   "metadata": {},
   "source": [
    "Upgrade threadpoolctl to version >3."
   ]
  },
  {
   "cell_type": "markdown",
   "id": "f38a7e78",
   "metadata": {},
   "source": [
    "### Elbow Method"
   ]
  },
  {
   "cell_type": "code",
   "execution_count": 314,
   "id": "8de6f0e5",
   "metadata": {},
   "outputs": [
    {
     "data": {
      "image/png": "[encoded data removed]",
      "text/plain": [
       "<Figure size 720x432 with 1 Axes>"
      ]
     },
     "metadata": {},
     "output_type": "display_data"
    }
   ],
   "source": [
    "distortions = []\n",
    "K = range(3,20) \n",
    "\n",
    "for k in K:\n",
    "    kmeanModel = KMeans(n_clusters=k, random_state=42)\n",
    "    kmeanModel.fit(tfidf_matrix)\n",
    "    distortions.append(kmeanModel.inertia_)\n",
    "\n",
    "plt.figure(figsize=(10,6))\n",
    "plt.plot(K, distortions, 'bx-')\n",
    "plt.xlabel('k')\n",
    "plt.ylabel('Distortion')\n",
    "plt.xticks(K)\n",
    "plt.title('The Elbow Method showing the optimal k')\n",
    "plt.show()"
   ]
  },
  {
   "cell_type": "markdown",
   "id": "b9b21e31",
   "metadata": {},
   "source": [
    "### Silhouette Score"
   ]
  },
  {
   "cell_type": "code",
   "execution_count": 355,
   "id": "344960b6",
   "metadata": {
    "scrolled": true
   },
   "outputs": [
    {
     "data": {
      "image/png": "[encoded data removed]",
      "text/plain": [
       "<Figure size 576x396 with 1 Axes>"
      ]
     },
     "metadata": {},
     "output_type": "display_data"
    }
   ],
   "source": [
    "silhouette_scores = []\n",
    "K = range(2,20)  # Typically start from 2 because silhouette doesn't work with 1 cluster\n",
    "\n",
    "for k in K:\n",
    "    kmeans = KMeans(n_clusters=k, random_state=42)\n",
    "    clusters = kmeans.fit_predict(tfidf_matrix)\n",
    "    silhouette_avg = silhouette_score(tfidf_matrix, clusters)\n",
    "    silhouette_scores.append(silhouette_avg)\n",
    "\n",
    "plt.plot(K, silhouette_scores, 'bx-')\n",
    "plt.xlabel('k')\n",
    "plt.ylabel('Silhouette Score')\n",
    "plt.xticks(K)\n",
    "plt.show()"
   ]
  },
  {
   "cell_type": "markdown",
   "id": "73a18b85",
   "metadata": {},
   "source": [
    "## Perform K-means Clustering"
   ]
  },
  {
   "cell_type": "code",
   "execution_count": 142,
   "id": "1fca55f2",
   "metadata": {
    "scrolled": true
   },
   "outputs": [],
   "source": [
    "# Choose an optimal number of clusters (based on the elbow in the graph) and fit the K-means model\n",
    "optimal_clusters = 17\n",
    "kmeans = KMeans(n_clusters=optimal_clusters, init='k-means++', max_iter=300, n_init=10, random_state=42)\n",
    "kmeans_pred_y = kmeans.fit_predict(tfidf_matrix)"
   ]
  },
  {
   "cell_type": "code",
   "execution_count": 143,
   "id": "923477ee",
   "metadata": {},
   "outputs": [],
   "source": [
    "# Assign cluster labels to the original dataframe\n",
    "df['kmeans_label'] = kmeans_pred_y"
   ]
  },
  {
   "cell_type": "markdown",
   "id": "7a03a56a",
   "metadata": {},
   "source": [
    "# Combine LDA with K-means Clustering"
   ]
  },
  {
   "cell_type": "markdown",
   "id": "be3a61e0",
   "metadata": {},
   "source": [
    "### Elbow Method"
   ]
  },
  {
   "cell_type": "code",
   "execution_count": 356,
   "id": "8cc6a077",
   "metadata": {},
   "outputs": [
    {
     "data": {
      "image/png": "[encoded data removed]",
      "text/plain": [
       "<Figure size 720x432 with 1 Axes>"
      ]
     },
     "metadata": {},
     "output_type": "display_data"
    }
   ],
   "source": [
    "distortions = []\n",
    "K = range(3,20) \n",
    "\n",
    "for k in K:\n",
    "    kmeanModel = KMeans(n_clusters=k, random_state=42)\n",
    "    kmeanModel.fit(topic_results)\n",
    "    distortions.append(kmeanModel.inertia_)\n",
    "\n",
    "plt.figure(figsize=(10,6))\n",
    "plt.plot(K, distortions, 'bx-')\n",
    "plt.xlabel('k')\n",
    "plt.ylabel('Distortion')\n",
    "plt.xticks(K)\n",
    "plt.title('The Elbow Method showing the optimal k')\n",
    "plt.show()"
   ]
  },
  {
   "cell_type": "markdown",
   "id": "a803ab60",
   "metadata": {},
   "source": [
    "### Silhouette Score"
   ]
  },
  {
   "cell_type": "code",
   "execution_count": 357,
   "id": "8e1755b2",
   "metadata": {
    "scrolled": true
   },
   "outputs": [
    {
     "data": {
      "image/png": "[encoded data removed]",
      "text/plain": [
       "<Figure size 576x396 with 1 Axes>"
      ]
     },
     "metadata": {},
     "output_type": "display_data"
    }
   ],
   "source": [
    "from sklearn.metrics import silhouette_score\n",
    "\n",
    "silhouette_scores = []\n",
    "K = range(2,20)  # Typically start from 2 because silhouette doesn't work with 1 cluster\n",
    "\n",
    "for k in K:\n",
    "    kmeans = KMeans(n_clusters=k, random_state=42)\n",
    "    clusters = kmeans.fit_predict(topic_results)\n",
    "    silhouette_avg = silhouette_score(topic_results, clusters)\n",
    "    silhouette_scores.append(silhouette_avg)\n",
    "\n",
    "plt.plot(K, silhouette_scores, 'bx-')\n",
    "plt.xlabel('k')\n",
    "plt.ylabel('Silhouette Score')\n",
    "plt.xticks(K)\n",
    "plt.show()"
   ]
  },
  {
   "cell_type": "markdown",
   "id": "2fb53042",
   "metadata": {},
   "source": [
    "Optimal cluster is a bit unclear but seems like 17 is reasonable."
   ]
  },
  {
   "cell_type": "markdown",
   "id": "a505878a",
   "metadata": {},
   "source": [
    "## Perform K-means Clustering\n",
    "\n",
    "Fit the algorithm using document-topic matrix from LDA."
   ]
  },
  {
   "cell_type": "code",
   "execution_count": 471,
   "id": "7f9bf9be",
   "metadata": {
    "scrolled": true
   },
   "outputs": [],
   "source": [
    "# Choose an optimal number of clusters (based on the elbow in the graph) and fit the K-means model\n",
    "optimal_clusters = 17\n",
    "kmeans = KMeans(n_clusters=optimal_clusters, init='k-means++', max_iter=300, n_init=10, random_state=0)\n",
    "lda_kmeans_pred_y = kmeans.fit_predict(topic_results)"
   ]
  },
  {
   "cell_type": "code",
   "execution_count": 472,
   "id": "483bfefe",
   "metadata": {},
   "outputs": [],
   "source": [
    "# Assign cluster labels to the original dataframe\n",
    "df['lda_kmeans_label'] = lda_kmeans_pred_y"
   ]
  },
  {
   "cell_type": "markdown",
   "id": "5cd4c595",
   "metadata": {},
   "source": [
    "# BERT Modeling\n",
    "\n",
    "This topic modeling technique uses transformers (BERT embeddings) and class-based TF-IDF to generate dense clusters."
   ]
  },
  {
   "cell_type": "code",
   "execution_count": 7,
   "id": "d58ceca2",
   "metadata": {},
   "outputs": [],
   "source": [
    "from transformers import BertTokenizer, BertModel\n",
    "import torch"
   ]
  },
  {
   "cell_type": "code",
   "execution_count": 8,
   "id": "79f3136c",
   "metadata": {},
   "outputs": [],
   "source": [
    "# Load pre-trained BERT model and tokenizer\n",
    "tokenizer = BertTokenizer.from_pretrained('bert-base-uncased')\n",
    "model = BertModel.from_pretrained('bert-base-uncased')"
   ]
  },
  {
   "cell_type": "code",
   "execution_count": 9,
   "id": "548a22d3",
   "metadata": {},
   "outputs": [],
   "source": [
    "# Feature Extraction with BERT\n",
    "def get_bert_embedding(sentence, model, tokenizer):\n",
    "    tokens = tokenizer(sentence, padding=True, truncation=True, return_tensors=\"pt\")\n",
    "    \n",
    "    with torch.no_grad():\n",
    "        outputs = model(**tokens)\n",
    "    \n",
    "    # Taking the mean of hidden states (Alternatively, you can use the [CLS] token's hidden state)\n",
    "    return outputs.last_hidden_state.mean(dim=1)"
   ]
  },
  {
   "cell_type": "code",
   "execution_count": 10,
   "id": "c095b473",
   "metadata": {},
   "outputs": [],
   "source": [
    "bert_embeddings = torch.stack([get_bert_embedding(article, model, tokenizer) for article in df['clean_article']])"
   ]
  },
  {
   "cell_type": "code",
   "execution_count": 11,
   "id": "7ab607f5",
   "metadata": {},
   "outputs": [],
   "source": [
    "# Removing the singleton dimension\n",
    "bert_embeddings_2D = np.squeeze(bert_embeddings, axis=1)"
   ]
  },
  {
   "cell_type": "code",
   "execution_count": 12,
   "id": "2df062c3",
   "metadata": {},
   "outputs": [],
   "source": [
    "# Save to a binary file in `.npy` format\n",
    "np.save('bert_embeddings_2D.npy', bert_embeddings_2D)"
   ]
  },
  {
   "cell_type": "code",
   "execution_count": 3,
   "id": "a1342710",
   "metadata": {},
   "outputs": [],
   "source": [
    "import numpy as np\n",
    "bert_embeddings_2D = np.load('bert_embeddings_2D.npy')"
   ]
  },
  {
   "cell_type": "markdown",
   "id": "c02b60fe",
   "metadata": {},
   "source": [
    "## Perform K-means Clustering"
   ]
  },
  {
   "cell_type": "code",
   "execution_count": 9,
   "id": "030dac22",
   "metadata": {
    "scrolled": true
   },
   "outputs": [],
   "source": [
    "# Choose an optimal number of clusters (based on the elbow in the graph) and fit the K-means model\n",
    "optimal_clusters = 17\n",
    "kmeans = KMeans(n_clusters=optimal_clusters, init='k-means++', max_iter=300, n_init=10, random_state=0)\n",
    "bert_pred_y = kmeans.fit_predict(bert_embeddings_2D)\n",
    "df['bert_label'] = bert_pred_y"
   ]
  },
  {
   "cell_type": "markdown",
   "id": "28865969",
   "metadata": {},
   "source": [
    "## UMap Dimensionality Reduction of BERT and Combine with LDA"
   ]
  },
  {
   "cell_type": "code",
   "execution_count": 12,
   "id": "01d37574",
   "metadata": {},
   "outputs": [],
   "source": [
    "import umap.umap_ as umap"
   ]
  },
  {
   "cell_type": "code",
   "execution_count": 117,
   "id": "8d16976d",
   "metadata": {},
   "outputs": [],
   "source": [
    "n_components = np.arange(2, 151)\n",
    "coh_score = []\n",
    "for n_component in n_components:\n",
    "    # Dimensionality reduction on BERT vectors\n",
    "    umap_model = umap.UMAP(n_components=n_component, random_state=42) # Choose the number of components\n",
    "    reduced_bert_vectors = umap_model.fit_transform(bert_embeddings_2D) # shape will be (n, k2)\n",
    "    \n",
    "    # Concatenation\n",
    "    lda_bert_vectors = np.concatenate([topic_results, reduced_bert_vectors], axis=1) # shape will be (n, k1 + k2)\n",
    "\n",
    "    # K-means clustering\n",
    "    kmeans = KMeans(n_clusters=17, init='k-means++', max_iter=300, n_init=10, random_state=42)\n",
    "    lda_bert_pred_y = kmeans.fit_predict(lda_bert_vectors)\n",
    "    df['lda_bert_label'] = lda_bert_pred_y\n",
    "\n",
    "    coh_score.append(get_topic_coherence(df, tfidf_vectorizer, 'lda_bert_label'))"
   ]
  },
  {
   "cell_type": "code",
   "execution_count": 126,
   "id": "2982162e",
   "metadata": {},
   "outputs": [
    {
     "data": {
      "text/plain": [
       "49"
      ]
     },
     "execution_count": 126,
     "metadata": {},
     "output_type": "execute_result"
    }
   ],
   "source": [
    "n_components[np.argmax(coh_score)]"
   ]
  },
  {
   "cell_type": "code",
   "execution_count": 180,
   "id": "5ddec517",
   "metadata": {},
   "outputs": [],
   "source": [
    "# Dimensionality reduction on BERT vectors\n",
    "umap_model = umap.UMAP(n_components=49, random_state=42) # Choose the number of components\n",
    "reduced_bert_vectors = umap_model.fit_transform(bert_embeddings_2D) # shape will be (n, k2)\n",
    "\n",
    "# Concatenation\n",
    "lda_bert_vectors = np.concatenate([topic_results, reduced_bert_vectors], axis=1) # shape will be (n, k1 + k2)\n",
    "\n",
    "# K-means clustering\n",
    "kmeans = KMeans(n_clusters=17, init='k-means++', max_iter=300, n_init=10, random_state=42)\n",
    "lda_bert_pred_y = kmeans.fit_predict(lda_bert_vectors)\n",
    "df['lda_bert_label'] = lda_bert_pred_y"
   ]
  },
  {
   "cell_type": "markdown",
   "id": "14c0a1ca",
   "metadata": {},
   "source": [
    "# Evaluate Performance"
   ]
  },
  {
   "cell_type": "markdown",
   "id": "c62a2e25",
   "metadata": {},
   "source": [
    "### Topic Coherence"
   ]
  },
  {
   "cell_type": "code",
   "execution_count": 166,
   "id": "a233a361",
   "metadata": {},
   "outputs": [
    {
     "name": "stdout",
     "output_type": "stream",
     "text": [
      "topic_coherence for LDA:  0.4064\n",
      "topic_coherence for kmeans:  0.4897\n",
      "topic_coherence for LDA + kmeans:  0.4135\n",
      "topic_coherence for BERT + kmeans:  0.4636\n",
      "topic_coherence for LDA + BERT + kmeans:  0.4934\n"
     ]
    }
   ],
   "source": [
    "lda_topic_coherence = get_topic_coherence(df, tfidf_vectorizer, 'lda_label')\n",
    "kmean_topic_coherence = get_topic_coherence(df, tfidf_vectorizer, 'kmeans_label')\n",
    "lda_kmean_topic_coherence = get_topic_coherence(df, tfidf_vectorizer, 'lda_kmeans_label')\n",
    "bert_kmean_topic_coherence = get_topic_coherence(df, tfidf_vectorizer, 'bert_label')\n",
    "lda_bert_kmean_topic_coherence = get_topic_coherence(df, tfidf_vectorizer, 'lda_bert_label')\n",
    "\n",
    "print('topic_coherence for LDA: ', np.round(lda_topic_coherence, 4))\n",
    "print('topic_coherence for kmeans: ', np.round(kmean_topic_coherence, 4))\n",
    "print('topic_coherence for LDA + kmeans: ', np.round(lda_kmean_topic_coherence, 4))\n",
    "print('topic_coherence for BERT + kmeans: ', np.round(bert_kmean_topic_coherence, 4))\n",
    "print('topic_coherence for LDA + BERT + kmeans: ', np.round(lda_bert_kmean_topic_coherence, 4))"
   ]
  },
  {
   "cell_type": "markdown",
   "id": "fd211c9c",
   "metadata": {},
   "source": [
    "### Topic Diversity"
   ]
  },
  {
   "cell_type": "code",
   "execution_count": 163,
   "id": "dc8ad4d5",
   "metadata": {},
   "outputs": [
    {
     "name": "stdout",
     "output_type": "stream",
     "text": [
      "topic_diversity for LDA:  0.739\n",
      "topic_diversity for kmeans:  0.8249\n",
      "topic_diversity for LDA + kmeans:  0.7417\n",
      "topic_diversity for BERT + kmeans:  0.7571\n",
      "topic_diversity for LDA + BERT + kmeans:  0.7725\n"
     ]
    }
   ],
   "source": [
    "lda_topic_diversity = get_topic_diversity(df, tfidf_vectorizer, 'lda_label')\n",
    "kmeans_topic_diversity = get_topic_diversity(df, tfidf_vectorizer, 'kmeans_label')\n",
    "lda_kmeans_topic_diversity = get_topic_diversity(df, tfidf_vectorizer, 'lda_kmeans_label')\n",
    "bert_topic_diversity = get_topic_diversity(df, tfidf_vectorizer, 'bert_label')\n",
    "lda_bert_topic_diversity = get_topic_diversity(df, tfidf_vectorizer, 'lda_bert_label')\n",
    "\n",
    "print('topic_diversity for LDA: ', np.round(lda_topic_diversity, 4))\n",
    "print('topic_diversity for kmeans: ', np.round(kmeans_topic_diversity, 4))\n",
    "print('topic_diversity for LDA + kmeans: ', np.round(lda_kmeans_topic_diversity, 4))\n",
    "print('topic_diversity for BERT + kmeans: ', np.round(bert_topic_diversity, 4))\n",
    "print('topic_diversity for LDA + BERT + kmeans: ', np.round(lda_bert_topic_diversity, 4))"
   ]
  },
  {
   "cell_type": "markdown",
   "id": "ce70625a",
   "metadata": {},
   "source": [
    "### Silhouette Score"
   ]
  },
  {
   "cell_type": "code",
   "execution_count": 178,
   "id": "b7b4d6ab",
   "metadata": {},
   "outputs": [
    {
     "name": "stdout",
     "output_type": "stream",
     "text": [
      "Silhouette score for kmeans:  0.0370320051320985\n",
      "Silhouette score for LDA + kmeans:  0.4928035135701487\n",
      "Silhouette score for BERT + kmeans:  0.061440688\n",
      "Silhouette score for LDA + BERT + kmeans:  0.4034024996980035\n"
     ]
    }
   ],
   "source": [
    "kmeans = KMeans(n_clusters=17, init='k-means++', max_iter=300, n_init=10, random_state=42)\n",
    "lda_kmeans = KMeans(n_clusters=17, init='k-means++', max_iter=300, n_init=10, random_state=42)\n",
    "bert_kmeans = KMeans(n_clusters=17, init='k-means++', max_iter=300, n_init=10, random_state=42)\n",
    "lda_bert_kmeans = KMeans(n_clusters=17, init='k-means++', max_iter=300, n_init=10, random_state=42)\n",
    "\n",
    "kmeans_cluster = kmeans.fit_predict(tfidf_matrix)\n",
    "lda_kmeans_cluster = lda_kmeans.fit_predict(topic_results)\n",
    "bert_kmeans_cluster = bert_kmeans.fit_predict(bert_embeddings_2D)\n",
    "lda_bert_kmeans_cluster = lda_bert_kmeans.fit_predict(lda_bert_vectors)\n",
    "\n",
    "print('Silhouette score for kmeans: ', silhouette_score(tfidf_matrix, kmeans_cluster))\n",
    "print('Silhouette score for LDA + kmeans: ', silhouette_score(topic_results, lda_kmeans_cluster))\n",
    "print('Silhouette score for BERT + kmeans: ', silhouette_score(bert_embeddings_2D, bert_kmeans_cluster))\n",
    "print('Silhouette score for LDA + BERT + kmeans: ', silhouette_score(lda_bert_vectors, lda_bert_kmeans_cluster))"
   ]
  },
  {
   "cell_type": "markdown",
   "id": "3854e245",
   "metadata": {},
   "source": [
    "# Text Summarization\n",
    "\n",
    "Besides the quantitative metrics, I also want to use my personal judgment on whether the topics it created are accurate. Since reading the entire articles are time consuming, I am going to summarize texts for easier read."
   ]
  },
  {
   "cell_type": "markdown",
   "id": "578daece",
   "metadata": {},
   "source": [
    "Install RUST: https://www.rust-lang.org/tools/install\n",
    "\n",
    "Install PyTorch: pip install torch torchvision\n",
    "\n",
    "Install transformers"
   ]
  },
  {
   "cell_type": "code",
   "execution_count": 21,
   "id": "f4f75c5f",
   "metadata": {},
   "outputs": [],
   "source": [
    "from transformers import BartForConditionalGeneration, BartTokenizer"
   ]
  },
  {
   "cell_type": "code",
   "execution_count": 53,
   "id": "8d61ca53",
   "metadata": {},
   "outputs": [],
   "source": [
    "# Load model and tokenizer\n",
    "model = BartForConditionalGeneration.from_pretrained(model_name)\n",
    "tokenizer = BartTokenizer.from_pretrained(model_name)"
   ]
  },
  {
   "cell_type": "code",
   "execution_count": 98,
   "id": "c63c7eed",
   "metadata": {},
   "outputs": [],
   "source": [
    "def summarize_texts(texts,\n",
    "                    model,\n",
    "                    tokenizer,\n",
    "                    model_name='facebook/bart-large-cnn',\n",
    "                    max_input_length=1024,\n",
    "                    max_summary_length=100):\n",
    "      \n",
    "    summaries = []\n",
    "    \n",
    "    for text in texts:\n",
    "        # Tokenize the text\n",
    "        inputs = tokenizer([text], max_length=max_input_length, return_tensors='pt', truncation=True)\n",
    "\n",
    "        # Generate summary\n",
    "        summary_ids = model.generate(inputs['input_ids'],\n",
    "                                     num_beams=4,\n",
    "                                     max_length=max_summary_length,\n",
    "                                     early_stopping=True)\n",
    "        \n",
    "        summarized_text = tokenizer.decode(summary_ids[0], skip_special_tokens=True)\n",
    "        summaries.append(summarized_text)\n",
    "        \n",
    "    return summaries"
   ]
  },
  {
   "cell_type": "code",
   "execution_count": 99,
   "id": "ce75bbc6",
   "metadata": {
    "scrolled": true
   },
   "outputs": [
    {
     "name": "stderr",
     "output_type": "stream",
     "text": [
      "/var/folders/sp/l9mdhsl91857chmn1wsjkfyr0000gn/T/ipykernel_6524/3357646158.py:3: SettingWithCopyWarning: \n",
      "A value is trying to be set on a copy of a slice from a DataFrame.\n",
      "Try using .loc[row_indexer,col_indexer] = value instead\n",
      "\n",
      "See the caveats in the documentation: https://pandas.pydata.org/pandas-docs/stable/user_guide/indexing.html#returning-a-view-versus-a-copy\n",
      "  df['summarized_article'] = summarized_articles\n"
     ]
    }
   ],
   "source": [
    "summarized_articles = summarize_texts(df['article'], model, tokenizer)\n",
    "\n",
    "df['summarized_article'] = summarized_articles"
   ]
  },
  {
   "cell_type": "markdown",
   "id": "4657a883",
   "metadata": {},
   "source": [
    "## Save DataFrame to S3 After Summerization"
   ]
  },
  {
   "cell_type": "code",
   "execution_count": 162,
   "id": "0141a140",
   "metadata": {},
   "outputs": [
    {
     "name": "stdout",
     "output_type": "stream",
     "text": [
      "Deleted existing file with key: processed_insurance_journal_articles.parquet\n"
     ]
    },
    {
     "data": {
      "text/plain": [
       "{'ResponseMetadata': {'RequestId': 'WH113BWE3D43663X',\n",
       "  'HostId': 'yrydiWtDiN108VDLPJSet6dfQBQqILMbkFUgqzOQvF82YqC1ZRDmseA5gdnCJM4Cnpj4TyBGidE=',\n",
       "  'HTTPStatusCode': 200,\n",
       "  'HTTPHeaders': {'x-amz-id-2': 'yrydiWtDiN108VDLPJSet6dfQBQqILMbkFUgqzOQvF82YqC1ZRDmseA5gdnCJM4Cnpj4TyBGidE=',\n",
       "   'x-amz-request-id': 'WH113BWE3D43663X',\n",
       "   'date': 'Fri, 25 Aug 2023 00:17:18 GMT',\n",
       "   'x-amz-server-side-encryption': 'AES256',\n",
       "   'etag': '\"a71aeb4e451923c93b755fec887ce8d3\"',\n",
       "   'server': 'AmazonS3',\n",
       "   'content-length': '0'},\n",
       "  'RetryAttempts': 0},\n",
       " 'ETag': '\"a71aeb4e451923c93b755fec887ce8d3\"',\n",
       " 'ServerSideEncryption': 'AES256'}"
      ]
     },
     "execution_count": 162,
     "metadata": {},
     "output_type": "execute_result"
    }
   ],
   "source": [
    "# Load the environment file with credentials\n",
    "dotenv_path = os.path.join(os.path.abspath(''), 'aws-credentials.env')\n",
    "load_dotenv(dotenv_path)\n",
    "\n",
    "BUCKET_NAME = \"nlp-topic-modeling-project\" # S3 bucket name\n",
    "KEY = \"processed_insurance_journal_articles.parquet\" # Name of file object\n",
    "\n",
    "session = boto3.Session(\n",
    "        aws_access_key_id=os.environ['aws_access_key_id'],\n",
    "        aws_secret_access_key=os.environ['aws_secret_access_key']\n",
    "    )\n",
    "\n",
    "# Creating S3 resource from Session\n",
    "s3 = session.resource('s3')\n",
    "\n",
    "# Create bucket\n",
    "try:\n",
    "    s3.create_bucket(Bucket=BUCKET_NAME)\n",
    "    \n",
    "except:\n",
    "    print(\"Bucket already exists. Proceeding...\")\n",
    "\n",
    "# Checking if the file with the same key exists, and if so, deleting it\n",
    "bucket = s3.Bucket(BUCKET_NAME)\n",
    "objs = list(bucket.objects.filter(Prefix=KEY))\n",
    "\n",
    "if len(objs) > 0 and objs[0].key == KEY:\n",
    "    s3.Object(BUCKET_NAME, KEY).delete()\n",
    "    print(f\"Deleted existing file with key: {KEY}\")\n",
    "\n",
    "# Create a buffer, which stores the data in memory\n",
    "buffer = BytesIO()\n",
    "\n",
    "# Save the dataframe into parquet and save in the buffer\n",
    "df.to_parquet(buffer)\n",
    "\n",
    "# Store the file into S3\n",
    "s3.Object(BUCKET_NAME, KEY).put(Body=buffer.getvalue())"
   ]
  },
  {
   "cell_type": "code",
   "execution_count": 452,
   "id": "34c44781",
   "metadata": {},
   "outputs": [
    {
     "name": "stdout",
     "output_type": "stream",
     "text": [
      "Frustration Grows Over Wait on OxyContin Maker’s Settlement. Lawyers on multiple sides of the case, including those representing Purdue, asked the 2nd U.S. Circuit Court of Appeals in New York to issue a ruling. About 149,000 individuals made claims and could receive between about $3,500 and $48,000 each from the settlement.\n",
      "\n",
      "\n",
      "Byron Allen Sues McDonald’s for Allegedly Lying about Commitment to Black Media. Media entrepreneur Byron Allen has filed a second lawsuit against McDonald's Corp over the fast-food chain's alleged refusal to advertise with Black-owned media. The lawsuit seeks $100 million plus punitive damages for McDonald's alleged violation of a California anti-fraud law against making false promises.\n",
      "\n",
      "\n",
      "Judge orders Boeing to appear in court on Jan. 26 to face felony charge. The charge is related to two fatal crashes of Boeing 737s in Indonesia and Ethiopia. The U.S. government has agreed to a $2.5 billion settlement with the families of the crash victims.\n",
      "\n",
      "\n",
      "Tutoring Firm Settles EEOC’s First Bias Lawsuit Involving AI Software. At least 85% of large U.S. employers are using AI in some aspects of employment. Experts expect an increasing number of lawsuits accusing employers of discriminating through their use of AI software.\n",
      "\n",
      "\n",
      "J&J faced more than 100,000 lawsuits over the products, which were intended to bolster sagging organs or treat incontinence in women. J&J withdrew some of its vaginal-mesh lines from the market in 2012 after facing complaints by thousands of women that the products eroded over time.\n",
      "\n",
      "\n"
     ]
    }
   ],
   "source": [
    "LDA_topic_article =  df[df['lda_kmeans_label'] == 2]['article_summarized']\n",
    "for article in LDA_topic_article.sample(n=5):\n",
    "    print(article)\n",
    "    print('\\n')"
   ]
  },
  {
   "cell_type": "code",
   "execution_count": null,
   "id": "99aad618",
   "metadata": {},
   "outputs": [],
   "source": []
  },
  {
   "cell_type": "code",
   "execution_count": null,
   "id": "c2df9fd1",
   "metadata": {},
   "outputs": [],
   "source": []
  },
  {
   "cell_type": "code",
   "execution_count": null,
   "id": "0d75e031",
   "metadata": {},
   "outputs": [],
   "source": []
  },
  {
   "cell_type": "code",
   "execution_count": null,
   "id": "c7bd7d69",
   "metadata": {},
   "outputs": [],
   "source": []
  },
  {
   "cell_type": "code",
   "execution_count": 350,
   "id": "44047881",
   "metadata": {},
   "outputs": [],
   "source": [
    "# def calc_topic_coherence(method, matrix, df, vectorizer, labels=None, top_n_words=20, coherence_type='c_v'):\n",
    "#     \"\"\"\n",
    "#     Computes the coherence score for topics derived from either LDA or KMeans clustering.\n",
    "\n",
    "#     Parameters:\n",
    "#     - method: either 'lda' or 'kmean' to specify the technique.\n",
    "#     - matrix: If method='lda', this is the Topic to word matrix. \n",
    "#               If method='kmean', this is the TF-IDF matrix.\n",
    "#               If method='lda_kmeans', this is document to topic matrix.\n",
    "#     - vectorizer: If method='lda', CountVectorizer. Otherwise, TfidfVectorizer used.\n",
    "#     - labels: Cluster labels (required if method is 'lda_kmean' or 'kmean').\n",
    "#     - top_n_words: Number of top words to consider for each topic in coherence computation.\n",
    "#     - coherence_type: Type of coherence measure to use (e.g., 'c_v').\n",
    "\n",
    "#     Returns:\n",
    "#     - coherence_score: Coherence score for the topics.\n",
    "#     \"\"\"\n",
    "                  \n",
    "#     # Tokenize documents\n",
    "#     texts = [doc.split() for doc in df['clean_article']]\n",
    "\n",
    "#     # Create a Gensim dictionary\n",
    "#     dictionary = Dictionary(texts)\n",
    "\n",
    "#     # Get topics\n",
    "#     topics = []\n",
    "    \n",
    "#     if method == 'lda':\n",
    "#         for topic_idx, topic in enumerate(matrix):\n",
    "#             top_features_ind = topic.argsort()[-top_n_words:][::-1]\n",
    "#             top_features = [vectorizer.get_feature_names_out()[i] for i in top_features_ind]\n",
    "#             topics.append(top_features)\n",
    "    \n",
    "#     elif method == 'kmeans':\n",
    "#         if labels is None:\n",
    "#             raise ValueError(\"For method='kmeans', labels must be provided.\")\n",
    "        \n",
    "#         for cluster_id in set(labels):\n",
    "#             docs_in_cluster = matrix[np.array(labels) == cluster_id].toarray()\n",
    "#             avg_tf_idf = np.mean(docs_in_cluster, axis=0)\n",
    "#             top_indices = avg_tf_idf.argsort()[-top_n_words:][::-1]\n",
    "#             top_features = [vectorizer.get_feature_names_out()[i] for i in top_indices]\n",
    "#             topics.append(top_features)\n",
    "            \n",
    "#     elif method == 'lda_kmeans':\n",
    "#         if labels is None:\n",
    "#             raise ValueError(\"For method='lda_kmeans', labels must be provided.\")\n",
    "            \n",
    "#         for cluster_id in set(labels):\n",
    "            \n",
    "#             # Take the mean topic distribution in each K-means cluster\n",
    "#             mean_topic_dist = np.mean(matrix[labels == cluster_id, :], axis=0)\n",
    "        \n",
    "#             # Get the top N words for this \"mean topic\"\n",
    "#             top_word_indices = mean_topic_dist.argsort()[-top_n_words:][::-1]\n",
    "#             top_features = [vectorizer.get_feature_names_out()[i] for i in top_word_indices]\n",
    "\n",
    "#             topics.append(top_features)\n",
    "        \n",
    "#     else:\n",
    "#         raise ValueError(\"Invalid method. Choose either 'lda', 'kmean', or 'lda_kmeans'.\")\n",
    "\n",
    "#     # Compute Coherence Score\n",
    "#     coherence_model = CoherenceModel(topics=topics, texts=texts, dictionary=dictionary, coherence=coherence_type)\n",
    "#     coherence_score = coherence_model.get_coherence()\n",
    "    \n",
    "#     return coherence_score"
   ]
  },
  {
   "cell_type": "code",
   "execution_count": null,
   "id": "6e39af3f",
   "metadata": {},
   "outputs": [],
   "source": [
    "# def get_topic_vectors(df, column_label, vectorizer):\n",
    "#     topic_vectors = []\n",
    "#     for label in df[column_label].unique():\n",
    "#         # Get documents with this label\n",
    "#         docs_in_cluster = df[df[column_label] == label]['clean_article'].tolist()\n",
    "        \n",
    "#         # Convert the list of documents to a single string\n",
    "#         all_words = ' '.join(docs_in_cluster)\n",
    "        \n",
    "#         # Vectorize the aggregated text\n",
    "#         topic_vector = vectorizer.transform([all_words]).toarray()[0]\n",
    "        \n",
    "#         topic_vectors.append(topic_vector)\n",
    "        \n",
    "#     return np.array(topic_vectors)"
   ]
  },
  {
   "cell_type": "code",
   "execution_count": 391,
   "id": "3c38138e",
   "metadata": {},
   "outputs": [],
   "source": [
    "# def kmean_calc_topic_diversity(matrix, labels):\n",
    "#     \"\"\"\n",
    "#     Compute the topic diversity of clusters based on the mean TF-IDF vectors.\n",
    "    \n",
    "#     Args:\n",
    "#     - matrix (np.ndarray): Document-term matrix (e.g., from TF-IDF). Each row is a document and each column is a term.\n",
    "#     - labels (list): Cluster labels for each document.\n",
    "    \n",
    "#     Returns:\n",
    "#     - float: Topic diversity score\n",
    "#     \"\"\"\n",
    "    \n",
    "#     unique_labels = list(set(labels))\n",
    "#     cluster_vectors = []\n",
    "\n",
    "#     # Create \"topic\" vectors for each cluster by averaging TF-IDF vectors of the cluster's documents\n",
    "#     for label in unique_labels:\n",
    "#         # This is like doing groupby labels. Boolean indexing of selecting rows with desired label.\n",
    "#         docs_in_cluster = matrix[np.array(labels) == label].toarray()\n",
    "#         # axis=0 means I am finding mean for individual columns, keeping column dimension the same.\n",
    "#         avg_vector = np.mean(docs_in_cluster, axis=0)\n",
    "#         # For each label, I am creating a tfidf vector.\n",
    "#         cluster_vectors.append(avg_vector)\n",
    "    \n",
    "#     # Convert list of vectors into a matrix\n",
    "#     topic_word_distribution = np.array(cluster_vectors)\n",
    "    \n",
    "#     # Normalize topic-word matrix\n",
    "#     topic_word_distribution = topic_word_distribution / topic_word_distribution.sum(axis=1)[:, np.newaxis]\n",
    "    \n",
    "#     # Compute pairwise cosine similarity\n",
    "#     similarities = cosine_similarity(topic_word_distribution)\n",
    "    \n",
    "#     # Subtract the identity matrix to set diagonal values to 0\n",
    "#     similarities -= np.identity(similarities.shape[0])\n",
    "    \n",
    "#     # Return the average similarity (or 1 - average similarity for diversity)\n",
    "#     return 1 - np.mean(similarities)"
   ]
  },
  {
   "cell_type": "code",
   "execution_count": null,
   "id": "e5f5d584",
   "metadata": {},
   "outputs": [],
   "source": [
    "# def lda_kmeans_topic_diversity(lda_topic_word_matrix, kmeans_labels):\n",
    "#     \"\"\"\n",
    "#     Compute the topic diversity of clusters based on both the LDA topic-word matrix and KMeans labels.\n",
    "    \n",
    "#     Args:\n",
    "#     - lda_topic_word_matrix (np.ndarray): Topic-word matrix from LDA. Each row is a topic and each column is a word.\n",
    "#     - kmeans_labels (list): Cluster labels for each topic.\n",
    "    \n",
    "#     Returns:\n",
    "#     - float: Topic diversity score\n",
    "#     \"\"\"\n",
    "\n",
    "#     # Normalizing the LDA topic-word matrix\n",
    "#     lda_topic_word_matrix = lda_topic_word_matrix / lda_topic_word_matrix.sum(axis=1)[:, np.newaxis]\n",
    "    \n",
    "#     unique_labels = set(kmeans_labels)\n",
    "#     aggregated_topics = []\n",
    "\n",
    "#     for label in unique_labels:\n",
    "#         topics_in_cluster = lda_topic_word_matrix[kmeans_labels == label, :]\n",
    "#         # Average the topics in each cluster\n",
    "#         avg_topic = np.mean(topics_in_cluster, axis=0)\n",
    "#         aggregated_topics.append(avg_topic)\n",
    "\n",
    "#     # Convert list of aggregated topics into a matrix\n",
    "#     aggregated_matrix = np.array(aggregated_topics)\n",
    "    \n",
    "#     # Normalize the aggregated topic-word matrix\n",
    "#     aggregated_matrix = aggregated_matrix / aggregated_matrix.sum(axis=1)[:, np.newaxis]\n",
    "\n",
    "#     # Compute pairwise cosine similarity\n",
    "#     similarities = cosine_similarity(aggregated_matrix)\n",
    "    \n",
    "#     # Subtract the identity matrix to set diagonal values to 0\n",
    "#     similarities -= np.identity(similarities.shape[0])\n",
    "    \n",
    "#     # Return the average similarity (or 1 - average similarity for diversity)\n",
    "#     return 1 - np.mean(similarities)\n"
   ]
  },
  {
   "cell_type": "code",
   "execution_count": 431,
   "id": "77d6745c",
   "metadata": {},
   "outputs": [],
   "source": [
    "# def word_plot(idx, matrix, vectorizer, method='lda', labels=None, n_words=30):\n",
    "#     \"\"\"\n",
    "#     Plots the top words for a specified topic or cluster using provided word weights \\\n",
    "#     (like LDA components or average TF-IDF).\n",
    "\n",
    "#     Parameters:\n",
    "#     - idx: Index of the topic or cluster for which you want to plot the top words.\n",
    "#     - matrix: Matrix of word weights (e.g., LDA components or  TF-IDF values for clusters).\n",
    "#     - vectorizer: Fitted vectorizer (like TF-IDF or CountVectorizer).\n",
    "#     - method: Either 'lda' or 'kmeans' to specify the source of the matrix.\n",
    "#     - n_words: Number of top words to plot.\n",
    "#     \"\"\"\n",
    "    \n",
    "#     if method == 'kmeans':\n",
    "#         # Get matrix per cluster\n",
    "#         cluster_vectors = matrix[np.array(labels) == idx].toarray()\n",
    "    \n",
    "#         # Calculate the average TF-IDF vector for the cluster\n",
    "#         word_weights = np.mean(cluster_vectors, axis=0)\n",
    "    \n",
    "#     elif method == 'lda':\n",
    "        \n",
    "#         # Get the word weights for the specified topic\n",
    "#         word_weights = matrix[idx]\n",
    "\n",
    "#     # Get the indices for the top words\n",
    "#     top_word_indices = word_weights.argsort()[-n_words:][::-1]\n",
    "\n",
    "#     # Get the words corresponding to these indices\n",
    "#     feature_names = vectorizer.get_feature_names_out()\n",
    "#     top_words = [feature_names[i] for i in top_word_indices]\n",
    "\n",
    "#     # Plot horizontal bar chart\n",
    "#     plt.figure(figsize=(15, 10))\n",
    "#     plt.barh(top_words, word_weights[top_word_indices])\n",
    "#     plt.xlabel('Weight')\n",
    "\n",
    "#     # Set title based on method\n",
    "#     if method == 'lda':\n",
    "#         plt.title(f'Top {n_words} words for topic {idx}')\n",
    "#     elif method == 'kmeans':\n",
    "#         plt.title(f'Top {n_words} words for cluster {idx}')\n",
    "#     else:\n",
    "#         raise ValueError(\"Method should be either 'LDA' or 'KMeans'.\")\n",
    "\n",
    "#     plt.gca().invert_yaxis()\n",
    "#     plt.show()"
   ]
  },
  {
   "cell_type": "markdown",
   "id": "abe211ad",
   "metadata": {},
   "source": [
    "## Autoencoder Dimension Reduction of BERT and Combine With LDA"
   ]
  },
  {
   "cell_type": "code",
   "execution_count": 181,
   "id": "36e9660a",
   "metadata": {},
   "outputs": [],
   "source": [
    "# # Concatenation\n",
    "# lda_bert_vectors = np.concatenate([topic_results, bert_embeddings_2D], axis=1) # shape will be (n, k1 + k2)\n",
    "\n",
    "# X_train, X_test = train_test_split(lda_bert_vectors, test_size=0.2)\n",
    "\n",
    "# latent_dims = np.arange(5, 100, 5)\n",
    "# coh_score2 = []\n",
    "\n",
    "# for latent_dim in latent_dims:\n",
    "    \n",
    "#     # Define Autoencoder Model\n",
    "#     input_dim = lda_bert_vectors.shape[1]\n",
    "#     activation = 'relu'\n",
    "#     input_vec = Input(shape=(input_dim,))\n",
    "#     encoded = Dense(latent_dim, activation=activation)(input_vec)\n",
    "#     decoded = Dense(input_dim, activation=activation)(encoded)\n",
    "#     autoencoder = Model(input_vec, decoded)\n",
    "#     encoder = Model(input_vec, encoded)\n",
    "\n",
    "#     autoencoder.compile(optimizer='adam', loss='mean_squared_error')\n",
    "\n",
    "#     # Train Autoencoder\n",
    "#     autoencoder.fit(X_train, X_train, epochs=200, batch_size=128, shuffle=True, validation_data=(X_test, X_test), verbose=0)\n",
    "\n",
    "#     # Use Encoder to get lower-dimensional representation\n",
    "#     encoded_vec = encoder.predict(lda_bert_vectors)\n",
    "\n",
    "#     # K-means clustering on encoded vectors\n",
    "#     kmeans = KMeans(n_clusters=17, init='k-means++', max_iter=300, n_init=10, random_state=42)\n",
    "#     lda_bert_pred_y = kmeans.fit_predict(encoded_vec)\n",
    "#     df['lda_bert_label2'] = lda_bert_pred_y\n",
    "    \n",
    "#     coh_score2.append(get_topic_coherence(df, tfidf_vectorizer, 'lda_bert_label2'))"
   ]
  }
 ],
 "metadata": {
  "kernelspec": {
   "display_name": "Python 3 (ipykernel)",
   "language": "python",
   "name": "python3"
  },
  "language_info": {
   "codemirror_mode": {
    "name": "ipython",
    "version": 3
   },
   "file_extension": ".py",
   "mimetype": "text/x-python",
   "name": "python",
   "nbconvert_exporter": "python",
   "pygments_lexer": "ipython3",
   "version": "3.9.12"
  }
 },
 "nbformat": 4,
 "nbformat_minor": 5
}
